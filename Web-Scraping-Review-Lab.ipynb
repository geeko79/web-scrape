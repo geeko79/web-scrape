from bs4 import BeautifulSoup # this module helps in web scrapping.
import requests  # this module helps us to download a webpage

url = "http://www.ibm.com"
# get the contents of the webpage in text format and store in a variable called data
data  = requests.get(url).text 
soup = BeautifulSoup(data,"html.parser")  # create a soup object using the variable 'data'
for link in soup.find_all('img'):# in html image is represented by the tag <img>
    print(link.get('src'))
URL = "https://cf-courses-data.s3.us.cloud-object-storage.appdomain.cloud/IBM-DA0321EN-SkillsNetwork/labs/datasets/HTMLColorCodes.html"
# get the contents of the webpage in text format and store in a variable called data
data  = requests.get(url).text
#find a html table in the web page
table = soup.find('table') # in html table is represented by the tag <table>
